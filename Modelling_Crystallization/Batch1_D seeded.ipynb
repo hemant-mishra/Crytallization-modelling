{
 "cells": [
  {
   "cell_type": "code",
   "execution_count": 1,
   "id": "18a5bfc5",
   "metadata": {},
   "outputs": [
    {
     "name": "stdout",
     "output_type": "stream",
     "text": [
      "66.6666666666642\n"
     ]
    }
   ],
   "source": [
    "import matplotlib.pyplot as plt \n",
    "import numpy as np \n",
    "import sympy as sy \n",
    "\n",
    "def f(x): \n",
    "    return 0.0032*(300-x)*(x-250)\n",
    "  \n",
    "x = sy.Symbol(\"x\") \n",
    "print(sy.integrate(f(x), (x, 250, 300)))"
   ]
  },
  {
   "cell_type": "code",
   "execution_count": 2,
   "id": "21e838d4",
   "metadata": {},
   "outputs": [
    {
     "name": "stdout",
     "output_type": "stream",
     "text": [
      "18333.3333333349\n"
     ]
    }
   ],
   "source": [
    "import matplotlib.pyplot as plt\n",
    "import numpy as np\n",
    "import sympy as sy\n",
    "\n",
    "def f(x):\n",
    "    return 0.0032 * (300 - x) * (x - 250)*x\n",
    "\n",
    "x = sy.Symbol(\"x\")\n",
    "print(sy.integrate(f(x), (x, 250, 300)))"
   ]
  },
  {
   "cell_type": "code",
   "execution_count": 3,
   "id": "21c28831",
   "metadata": {},
   "outputs": [
    {
     "name": "stdout",
     "output_type": "stream",
     "text": [
      "5049999.99999976\n"
     ]
    }
   ],
   "source": [
    "import matplotlib.pyplot as plt\n",
    "import numpy as np\n",
    "import sympy as sy\n",
    "\n",
    "def f(x):\n",
    "    return 0.0032 * (300 - x) * (x - 250)*x**2\n",
    "x = sy.Symbol(\"x\")\n",
    "print(sy.integrate(f(x), (x, 250, 300)))"
   ]
  },
  {
   "cell_type": "code",
   "execution_count": 4,
   "id": "5cd7fae2",
   "metadata": {},
   "outputs": [
    {
     "name": "stdout",
     "output_type": "stream",
     "text": [
      "1393333333.33337\n"
     ]
    }
   ],
   "source": [
    "import matplotlib.pyplot as plt\n",
    "import numpy as np\n",
    "import sympy as sy\n",
    "\n",
    "def f(x):\n",
    "    return 0.0032 * (300 - x) * (x - 250)*x**3\n",
    "\n",
    "x = sy.Symbol(\"x\")\n",
    "print(sy.integrate(f(x), (x, 250, 300)))"
   ]
  },
  {
   "cell_type": "code",
   "execution_count": 5,
   "id": "e60c980f",
   "metadata": {},
   "outputs": [
    {
     "name": "stdout",
     "output_type": "stream",
     "text": [
      "385059523809.539\n"
     ]
    }
   ],
   "source": [
    "import matplotlib.pyplot as plt\n",
    "import numpy as np\n",
    "import sympy as sy\n",
    "\n",
    "def f(x):\n",
    "    return 0.0032 * (300 - x) * (x - 250)*x**4\n",
    "\n",
    "x = sy.Symbol(\"x\")\n",
    "print(sy.integrate(f(x), (x, 250, 300)))"
   ]
  },
  {
   "cell_type": "code",
   "execution_count": 6,
   "id": "3d205cc9",
   "metadata": {},
   "outputs": [],
   "source": [
    "import math\n",
    "import numpy as np\n",
    "from scipy.integrate import solve_ivp\n",
    "import matplotlib.pyplot as plt\n",
    "%matplotlib inline\n",
    "\n",
    "\n",
    "def generateODE(t, y):\n",
    "    # Unpack the variables from the y vector\n",
    "    m0p, m1p, m2p, m3p, m4p, m0, m1, m2, m3, m4, C = y\n",
    "    \n",
    "    \n",
    "    g = 1.5\n",
    "    kg = 1.44*10**8                                    # mum/sec\n",
    "    kb = 285.1                                        #  no./(microm^3 sec)\n",
    "    b = 2.25                                     \n",
    "    rho_c = 2.66*10**(-12)                             # g/microm^3\n",
    "    \n",
    "    # M = 3000                                            # g\n",
    "    # C_c = rho_c/MW                                     # mol/m^3\n",
    "    \n",
    "    k_v = 1.5\n",
    "    Eg = 4859                                                     # Eg/R k\n",
    "    Eb = 7517                                                        # Eb/R  k\n",
    "    \n",
    "    \n",
    "    # Calculate temperature T\n",
    "    #print(t)\n",
    "    \n",
    "    T = 323.15 - (20) * (t/1800)\n",
    "    #print(T)\n",
    "    \n",
    "    # Calculate other necessary quantities based on y and T\n",
    "    \n",
    "    \n",
    "    C_sat = 6.29 * 10**(-2) + 2.46 * 10**(-3)*T - 7.14*10**(-6)*T**2          #g/g sol\n",
    "    \n",
    "    #print(C_sat)\n",
    "    \n",
    "    delta_C = max(C - C_sat, 0)\n",
    "    \n",
    "    #print(delta_C/C_sat)\n",
    "\n",
    "    G = kg*(np.exp(-Eg/T))*(delta_C/C_sat)**g                                # mum/sec   \n",
    "    \n",
    "    #print(G)\n",
    "    \n",
    "    B = kb*(np.exp(-Eb/T))*(delta_C/C_sat)**b*(m3)                          # no./sec      \n",
    "    \n",
    "\n",
    "    # Define your differential equations using y, C, T, and other quantities\n",
    "    \n",
    "    \n",
    "    dm0p = 0\n",
    "    dm1p = G * m0p\n",
    "    dm2p = 2 * G * m1p \n",
    "    dm3p = 3 * G * m2p \n",
    "    dm4p = 4 * G * m3p\n",
    "    \n",
    "    dm0 = B\n",
    "    dm1 = G * m0 \n",
    "    dm2 = 2 * G * m1 \n",
    "    dm3 = 3 * G * m2 \n",
    "    dm4 = 4 * G * m3\n",
    "    dC = -3 * rho_c * G * k_v * (m2 + m2p)\n",
    "    \n",
    "    \n",
    "   \n",
    "    return [dm0p, dm1p, dm2p, dm3p, dm4p, dm0, dm1, dm2, dm3, dm4, dC]\n",
    "\n",
    "# Initial conditions\n",
    "initialConditions = [66.66, 18333.3, 5.05*10**6, 1.39*10**9, 3.85*10**11, 0, 0, 0, 0, 0, 0.1743]\n",
    "\n",
    "# Parameters\n",
    "# Define your parameters here\n",
    "\n",
    "t_span = (0, 1800)\n",
    "num_points = 30\n",
    "\n",
    "sol1 = solve_ivp(\n",
    "    lambda t, y: generateODE(t, y),\n",
    "    t_span,\n",
    "    initialConditions,\n",
    "    \n",
    "    t_eval=np.linspace(0, 30, num_points)\n",
    ")"
   ]
  },
  {
   "cell_type": "code",
   "execution_count": 8,
   "id": "a9599794",
   "metadata": {},
   "outputs": [
    {
     "data": {
      "text/plain": [
       "Text(0, 0.5, 'concentration (g/g)')"
      ]
     },
     "execution_count": 8,
     "metadata": {},
     "output_type": "execute_result"
    },
    {
     "data": {
      "image/png": "[encoded data removed]",
      "text/plain": [
       "<Figure size 640x480 with 1 Axes>"
      ]
     },
     "metadata": {},
     "output_type": "display_data"
    }
   ],
   "source": [
    "plt.plot(sol1.t,sol1.y[10])\n",
    "plt.xlabel(\"Time ,min\")\n",
    "plt.ylabel(\"concentration (g/g)\")"
   ]
  },
  {
   "cell_type": "code",
   "execution_count": 5,
   "id": "73a8f859",
   "metadata": {},
   "outputs": [
    {
     "name": "stdout",
     "output_type": "stream",
     "text": [
      "0.0321245141333333\n"
     ]
    }
   ],
   "source": [
    "import matplotlib.pyplot as plt \n",
    "import numpy as np \n",
    "import sympy as sy \n",
    "\n",
    "def f(x): \n",
    "    return 0.2347*x**2 - 0.1357*x + 0.0307\n",
    "  \n",
    "x = sy.Symbol(\"x\") \n",
    "print(sy.integrate(f(x), (x, 0.4, 0.98)))"
   ]
  }
 ],
 "metadata": {
  "kernelspec": {
   "display_name": "Python 3 (ipykernel)",
   "language": "python",
   "name": "python3"
  },
  "language_info": {
   "codemirror_mode": {
    "name": "ipython",
    "version": 3
   },
   "file_extension": ".py",
   "mimetype": "text/x-python",
   "name": "python",
   "nbconvert_exporter": "python",
   "pygments_lexer": "ipython3",
   "version": "3.9.13"
  }
 },
 "nbformat": 4,
 "nbformat_minor": 5
}
